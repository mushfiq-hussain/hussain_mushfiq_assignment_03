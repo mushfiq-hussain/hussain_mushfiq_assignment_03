{
  "cells": [
    {
      "cell_type": "markdown",
      "metadata": {
        "id": "view-in-github",
        "colab_type": "text"
      },
      "source": [
        "<a href=\"https://colab.research.google.com/github/mushfiq-hussain/hussain_mushfiq_assignment_03/blob/main/INFO5731_Assignment_3_1.ipynb\" target=\"_parent\"><img src=\"https://colab.research.google.com/assets/colab-badge.svg\" alt=\"Open In Colab\"/></a>"
      ]
    },
    {
      "cell_type": "markdown",
      "metadata": {
        "id": "Ryk8D1Q4Wsrp"
      },
      "source": [
        "# **INFO5731 Assignment 3**\n",
        "\n",
        "In this assignment, we will delve into various aspects of natural language processing (NLP) and text analysis. The tasks are designed to deepen your understanding of key NLP concepts and techniques, as well as to provide hands-on experience with practical applications.\n",
        "\n",
        "Through these tasks, you'll gain practical experience in NLP techniques such as N-gram analysis, TF-IDF, word embedding model creation, and sentiment analysis dataset creation.\n",
        "\n",
        "**Expectations**:\n",
        "*   Use the provided .*ipynb* document to write your code & respond to the questions. Avoid generating a new file.\n",
        "*   Write complete answers and run all the cells before submission.\n",
        "*   Make sure the submission is \"clean\"; *i.e.*, no unnecessary code cells.\n",
        "*   Once finished, allow shared rights from top right corner (*see Canvas for details*).\n",
        "\n",
        "\n",
        "**Total points**: 100\n",
        "\n",
        "**Deadline**: See Canvas\n",
        "\n",
        "**Late Submission will have a penalty of 10% reduction for each day after the deadline.**\n"
      ]
    },
    {
      "cell_type": "markdown",
      "metadata": {
        "id": "JkzR8cFAyGik"
      },
      "source": [
        "## Question 1 (30 points)\n",
        "\n",
        "**Understand N-gram**\n",
        "\n",
        "Write a python program to conduct N-gram analysis based on the dataset in your assignment two. You need to write codes from scratch instead of using any pre-existing libraries to do so:\n",
        "\n",
        "(1) Count the frequency of all the N-grams (N=3).\n",
        "\n",
        "(2) Calculate the probabilities for all the bigrams in the dataset by using the fomular count(w2 w1) / count(w2). For example, count(really like) / count(really) = 1 / 3 = 0.33.\n",
        "\n",
        "(3) Extract all the noun phrases and calculate the relative probabilities of each review in terms of other reviews (abstracts, or tweets) by using the fomular frequency (noun phrase) / max frequency (noun phrase) on the whole dataset. Print out the result in a table with column name the all the noun phrases and row name as all the 100 reviews (abstracts, or tweets)."
      ]
    },
    {
      "cell_type": "code",
      "execution_count": 1,
      "metadata": {
        "id": "9v8IikDpqrxn",
        "colab": {
          "base_uri": "https://localhost:8080/"
        },
        "outputId": "bd25b0e0-efdc-4901-f566-ed650e1ffe15"
      },
      "outputs": [
        {
          "output_type": "stream",
          "name": "stdout",
          "text": [
            "Frequency of all trigrams: Counter({('The', 'food', 'was'): 1, ('food', 'was', 'delicious.'): 1, ('was', 'delicious.', 'The'): 1, ('delicious.', 'The', 'service'): 1, ('The', 'service', 'was'): 1, ('service', 'was', 'excellent.'): 1, ('I', 'loved', 'the'): 1, ('loved', 'the', 'atmosphere'): 1, ('the', 'atmosphere', 'of'): 1, ('atmosphere', 'of', 'the'): 1, ('of', 'the', 'restaurant.'): 1, ('The', 'portions', 'were'): 1, ('portions', 'were', 'generous'): 1, ('were', 'generous', 'and'): 1, ('generous', 'and', 'the'): 1, ('and', 'the', 'prices'): 1, ('the', 'prices', 'were'): 1, ('prices', 'were', 'reasonable.'): 1, ('The', 'staff', 'was'): 1, ('staff', 'was', 'friendly'): 1, ('was', 'friendly', 'and'): 1, ('friendly', 'and', 'helpful.'): 1})\n",
            "Probabilities for all bigrams: {('The', 'food'): 0.25, ('food', 'was'): 1.0, ('was', 'delicious.'): 0.3333333333333333, ('delicious.', 'The'): 1.0, ('The', 'service'): 0.25, ('service', 'was'): 1.0, ('was', 'excellent.'): 0.3333333333333333, ('I', 'loved'): 1.0, ('loved', 'the'): 1.0, ('the', 'atmosphere'): 0.3333333333333333, ('atmosphere', 'of'): 1.0, ('of', 'the'): 1.0, ('the', 'restaurant.'): 0.3333333333333333, ('The', 'portions'): 0.25, ('portions', 'were'): 1.0, ('were', 'generous'): 0.5, ('generous', 'and'): 1.0, ('and', 'the'): 0.5, ('the', 'prices'): 0.3333333333333333, ('prices', 'were'): 1.0, ('were', 'reasonable.'): 0.5, ('The', 'staff'): 0.25, ('staff', 'was'): 1.0, ('was', 'friendly'): 0.3333333333333333, ('friendly', 'and'): 1.0, ('and', 'helpful.'): 0.5}\n",
            "Relative probabilities of each review in terms of other reviews:\n",
            "Review 1: {('food', 'delicious'): 1.0, ('service', 'excellent'): 1.0, ('portions', 'generous and the'): 1.0, ('prices', 'reasonable'): 1.0, ('staff', 'friendly and helpful'): 1.0}\n",
            "Review 2: {('food', 'delicious'): 1.0, ('service', 'excellent'): 1.0, ('portions', 'generous and the'): 1.0, ('prices', 'reasonable'): 1.0, ('staff', 'friendly and helpful'): 1.0}\n",
            "Review 3: {('food', 'delicious'): 1.0, ('service', 'excellent'): 1.0, ('portions', 'generous and the'): 1.0, ('prices', 'reasonable'): 1.0, ('staff', 'friendly and helpful'): 1.0}\n",
            "Review 4: {('food', 'delicious'): 1.0, ('service', 'excellent'): 1.0, ('portions', 'generous and the'): 1.0, ('prices', 'reasonable'): 1.0, ('staff', 'friendly and helpful'): 1.0}\n"
          ]
        }
      ],
      "source": [
        "import re\n",
        "from collections import Counter\n",
        "\n",
        "def extract_ngrams(text, n):\n",
        "    \"\"\"\n",
        "    Extracts n-grams from the given text.\n",
        "    \"\"\"\n",
        "    words = text.split()\n",
        "    ngrams = [tuple(words[i:i+n]) for i in range(len(words)-n+1)]\n",
        "    return ngrams\n",
        "\n",
        "def count_ngrams(texts, n):\n",
        "    \"\"\"\n",
        "    Count the frequency of all N-grams (N=3) in the given texts.\n",
        "    \"\"\"\n",
        "    ngram_counts = Counter()\n",
        "    for text in texts:\n",
        "        ngrams = extract_ngrams(text, n)\n",
        "        ngram_counts.update(ngrams)\n",
        "    return ngram_counts\n",
        "\n",
        "def calculate_bigram_probabilities(texts):\n",
        "    \"\"\"\n",
        "    Calculate the probabilities for all bigrams in the dataset.\n",
        "    \"\"\"\n",
        "    word_counts = Counter()\n",
        "    bigram_counts = Counter()\n",
        "    for text in texts:\n",
        "        words = text.split()\n",
        "        word_counts.update(words)\n",
        "        bigrams = zip(words[:-1], words[1:])\n",
        "        bigram_counts.update(bigrams)\n",
        "\n",
        "    bigram_probabilities = {}\n",
        "    for bigram, count in bigram_counts.items():\n",
        "        w1, w2 = bigram\n",
        "        bigram_probabilities[bigram] = count / word_counts[w1]\n",
        "\n",
        "    return bigram_probabilities\n",
        "\n",
        "def extract_noun_phrases(text):\n",
        "    \"\"\"\n",
        "    Extracts noun phrases from the given text.\n",
        "    \"\"\"\n",
        "    noun_phrases = re.findall(r'\\b(?:a|an|the)? ?(\\w+ ?\\w* ?\\w*) (?:is|was|am|are|were|be) (\\w+ ?\\w* ?\\w*)\\b', text, flags=re.IGNORECASE)\n",
        "    return noun_phrases\n",
        "\n",
        "def calculate_relative_probabilities(texts):\n",
        "    \"\"\"\n",
        "    Calculate relative probabilities of each review in terms of other reviews using noun phrases.\n",
        "    \"\"\"\n",
        "    noun_phrase_counts = Counter()\n",
        "    for text in texts:\n",
        "        noun_phrases = extract_noun_phrases(text)\n",
        "        noun_phrase_counts.update(noun_phrases)\n",
        "\n",
        "    max_freq = max(noun_phrase_counts.values())\n",
        "\n",
        "    relative_probabilities = {}\n",
        "    for i, text in enumerate(texts):\n",
        "        noun_phrases = extract_noun_phrases(text)\n",
        "        relative_probabilities[i+1] = {noun_phrase: count / max_freq for noun_phrase, count in noun_phrase_counts.items()}\n",
        "\n",
        "    return relative_probabilities\n",
        "\n",
        "# Sample dataset of texts (100 reviews)\n",
        "texts = [\n",
        "    \"The food was delicious. The service was excellent.\",\n",
        "    \"I loved the atmosphere of the restaurant.\",\n",
        "    \"The portions were generous and the prices were reasonable.\",\n",
        "    \"The staff was friendly and helpful.\",\n",
        "    # Add more reviews here...\n",
        "]\n",
        "\n",
        "# (1) Count the frequency of all N-grams (N=3)\n",
        "ngram_counts = count_ngrams(texts, 3)\n",
        "print(\"Frequency of all trigrams:\", ngram_counts)\n",
        "\n",
        "# (2) Calculate the probabilities for all bigrams\n",
        "bigram_probabilities = calculate_bigram_probabilities(texts)\n",
        "print(\"Probabilities for all bigrams:\", bigram_probabilities)\n",
        "\n",
        "# (3) Extract all the noun phrases and calculate relative probabilities\n",
        "relative_probabilities = calculate_relative_probabilities(texts)\n",
        "print(\"Relative probabilities of each review in terms of other reviews:\")\n",
        "for review_id, probs in relative_probabilities.items():\n",
        "    print(f\"Review {review_id}:\", probs)\n",
        "\n",
        "\n",
        "\n",
        "\n"
      ]
    },
    {
      "cell_type": "markdown",
      "metadata": {
        "id": "90_NR8c5XGWc"
      },
      "source": [
        "## Question 2 (25 points)\n",
        "\n",
        "**Undersand TF-IDF and Document representation**\n",
        "\n",
        "Starting from the documents (all the reviews, or abstracts, or tweets) collected for assignment two, write a python program:\n",
        "\n",
        "(1) To build the documents-terms weights (tf * idf) matrix.\n",
        "\n",
        "(2) To rank the documents with respect to query (design a query by yourself, for example, \"An Outstanding movie with a haunting performance and best character development\") by using cosine similarity.\n",
        "\n",
        "Note: You need to write codes from scratch instead of using any pre-existing libraries to do so."
      ]
    },
    {
      "cell_type": "code",
      "execution_count": 2,
      "metadata": {
        "id": "LjN0iysvo9-n",
        "colab": {
          "base_uri": "https://localhost:8080/"
        },
        "outputId": "434dadab-3b00-401d-dfa1-555348463996"
      },
      "outputs": [
        {
          "output_type": "stream",
          "name": "stdout",
          "text": [
            "Rankings of documents with respect to the query:\n",
            "Rank 1: Document 1 - Similarity Score: 0.0000\n",
            "Rank 2: Document 2 - Similarity Score: 0.0000\n",
            "Rank 3: Document 3 - Similarity Score: 0.0000\n",
            "Rank 4: Document 4 - Similarity Score: 0.0000\n"
          ]
        }
      ],
      "source": [
        "import math\n",
        "\n",
        "# Sample dataset of documents (reviews, abstracts, tweets)\n",
        "documents = [\n",
        "    \"An Outstanding movie with a haunting performance and best character development.\",\n",
        "    \"The cinematography in this film is stunning.\",\n",
        "    \"I was captivated by the storyline and the actors' performances.\",\n",
        "    \"The plot twists kept me on the edge of my seat throughout the entire movie.\",\n",
        "    # Add more documents here...\n",
        "]\n",
        "\n",
        "def tokenize(text):\n",
        "    \"\"\"\n",
        "    Tokenize the given text into words.\n",
        "    \"\"\"\n",
        "    return text.lower().split()\n",
        "\n",
        "def calculate_tf(text):\n",
        "    \"\"\"\n",
        "    Calculate term frequencies (tf) for each term in the given text.\n",
        "    \"\"\"\n",
        "    terms = tokenize(text)\n",
        "    term_freq = {}\n",
        "    for term in terms:\n",
        "        term_freq[term] = term_freq.get(term, 0) + 1\n",
        "    total_terms = len(terms)\n",
        "    tf = {term: freq / total_terms for term, freq in term_freq.items()}\n",
        "    return tf\n",
        "\n",
        "def calculate_idf(documents):\n",
        "    \"\"\"\n",
        "    Calculate inverse document frequency (idf) for each term.\n",
        "    \"\"\"\n",
        "    total_documents = len(documents)\n",
        "    term_document_count = {}\n",
        "    for document in documents:\n",
        "        terms = set(tokenize(document))\n",
        "        for term in terms:\n",
        "            term_document_count[term] = term_document_count.get(term, 0) + 1\n",
        "    idf = {term: math.log(total_documents / count) for term, count in term_document_count.items()}\n",
        "    return idf\n",
        "\n",
        "def calculate_tf_idf(tf, idf):\n",
        "    \"\"\"\n",
        "    Calculate tf-idf weights for each term in the document.\n",
        "    \"\"\"\n",
        "    tf_idf = {term: tf_val * idf[term] for term, tf_val in tf.items()}\n",
        "    return tf_idf\n",
        "\n",
        "def cosine_similarity(vec1, vec2):\n",
        "    \"\"\"\n",
        "    Calculate cosine similarity between two vectors.\n",
        "    \"\"\"\n",
        "    dot_product = sum(vec1[term] * vec2.get(term, 0) for term in vec1)\n",
        "    magnitude1 = math.sqrt(sum(val ** 2 for val in vec1.values()))\n",
        "    magnitude2 = math.sqrt(sum(val ** 2 for val in vec2.values()))\n",
        "    if magnitude1 == 0 or magnitude2 == 0:\n",
        "        return 0\n",
        "    return dot_product / (magnitude1 * magnitude2)\n",
        "\n",
        "def build_documents_terms_matrix(documents):\n",
        "    \"\"\"\n",
        "    Build the documents-terms weights (tf * idf) matrix.\n",
        "    \"\"\"\n",
        "    tf_matrix = []\n",
        "    idf = calculate_idf(documents)\n",
        "    for document in documents:\n",
        "        tf = calculate_tf(document)\n",
        "        tf_idf = calculate_tf_idf(tf, idf)\n",
        "        tf_matrix.append(tf_idf)\n",
        "    return tf_matrix\n",
        "\n",
        "def rank_documents_with_query(query, documents, tf_matrix):\n",
        "    \"\"\"\n",
        "    Rank the documents with respect to the given query using cosine similarity.\n",
        "    \"\"\"\n",
        "    query_tf = calculate_tf(query)\n",
        "    query_tf_idf = calculate_tf_idf(query_tf, calculate_idf([query]))\n",
        "    rankings = []\n",
        "    for i, document in enumerate(documents):\n",
        "        similarity_score = cosine_similarity(query_tf_idf, tf_matrix[i])\n",
        "        rankings.append((i+1, similarity_score))\n",
        "    rankings.sort(key=lambda x: x[1], reverse=True)\n",
        "    return rankings\n",
        "\n",
        "# Design a query\n",
        "query = \"An Outstanding movie with a haunting performance and best character development\"\n",
        "\n",
        "# (1) Build the documents-terms weights (tf * idf) matrix\n",
        "tf_matrix = build_documents_terms_matrix(documents)\n",
        "\n",
        "# (2) Rank the documents with respect to the query using cosine similarity\n",
        "rankings = rank_documents_with_query(query, documents, tf_matrix)\n",
        "\n",
        "# Print the ranked documents\n",
        "print(\"Rankings of documents with respect to the query:\")\n",
        "for rank, (document_id, similarity_score) in enumerate(rankings, start=1):\n",
        "    print(f\"Rank {rank}: Document {document_id} - Similarity Score: {similarity_score:.4f}\")\n",
        "\n",
        "\n",
        "\n",
        "\n",
        "\n"
      ]
    },
    {
      "cell_type": "markdown",
      "metadata": {
        "id": "1F_PZdH9Sh49"
      },
      "source": [
        "## Question 3 (25 points)\n",
        "\n",
        "**Create your own word embedding model**\n",
        "\n",
        "Use the data you collected for assignment 2 to build a word embedding model:\n",
        "\n",
        "(1) Train a 300-dimension word embedding (it can be word2vec, glove, ulmfit, bert, or others).\n",
        "\n",
        "(2) Visualize the word embedding model you created.\n",
        "\n",
        "Reference: https://machinelearningmastery.com/develop-word-embeddings-python-gensim/\n",
        "\n",
        "Reference: https://jaketae.github.io/study/word2vec/"
      ]
    },
    {
      "cell_type": "code",
      "execution_count": 3,
      "metadata": {
        "id": "eczZgyAoo05Q",
        "colab": {
          "base_uri": "https://localhost:8080/",
          "height": 830
        },
        "outputId": "87376490-916b-4368-d8b0-6efc7a483601"
      },
      "outputs": [
        {
          "output_type": "display_data",
          "data": {
            "text/plain": [
              "<Figure size 1000x1000 with 1 Axes>"
            ],
            "image/png": "[encoded data removed]"
          },
          "metadata": {}
        }
      ],
      "source": [
        "from gensim.models import Word2Vec\n",
        "from gensim.utils import simple_preprocess\n",
        "import matplotlib.pyplot as plt\n",
        "\n",
        "# Sample dataset of documents (reviews, abstracts, tweets)\n",
        "documents = [\n",
        "    \"An Outstanding movie with a haunting performance and best character development.\",\n",
        "    \"The cinematography in this film is stunning.\",\n",
        "    \"I was captivated by the storyline and the actors' performances.\",\n",
        "    \"The plot twists kept me on the edge of my seat throughout the entire movie.\",\n",
        "    # Add more documents here...\n",
        "]\n",
        "\n",
        "# Tokenize the documents\n",
        "tokenized_docs = [simple_preprocess(doc) for doc in documents]\n",
        "\n",
        "# Train Word2Vec model\n",
        "model = Word2Vec(tokenized_docs, vector_size=300, window=5, min_count=1, sg=1)\n",
        "\n",
        "# Visualize word embeddings\n",
        "words = list(model.wv.index_to_key)\n",
        "vectors = model.wv[words]\n",
        "\n",
        "# Plot the embeddings\n",
        "fig, ax = plt.subplots(figsize=(10, 10))\n",
        "for word, vector in zip(words, vectors):\n",
        "    ax.scatter(vector[0], vector[1])\n",
        "    ax.annotate(word, xy=(vector[0], vector[1]), xytext=(5, 2), textcoords='offset points', ha='right', va='bottom')\n",
        "plt.show()\n"
      ]
    },
    {
      "cell_type": "markdown",
      "metadata": {
        "id": "DDoVp3aYoU8F"
      },
      "source": [
        "## Question 4 (20 Points)\n",
        "\n",
        "**Create your own training and evaluation data for sentiment analysis.**\n",
        "\n",
        " **You don't need to write program for this question!**\n",
        "\n",
        " For example, if you collected a movie review or a product review data, then you can do the following steps:\n",
        "\n",
        "*   Read each review (abstract or tweet) you collected in detail, and annotate each review with a sentiment (positive, negative, or neutral).\n",
        "\n",
        "*   Save the annotated dataset into a csv file with three columns (first column: document_id, clean_text, sentiment), upload the csv file to GitHub and submit the file link blew.\n",
        "\n",
        "*   This datset will be used for assignment four: sentiment analysis and text classification.\n"
      ]
    },
    {
      "cell_type": "code",
      "execution_count": null,
      "metadata": {
        "id": "DyK54UY6ompS"
      },
      "outputs": [],
      "source": [
        "# The GitHub link of your final csv file\n",
        "\n",
        "\n",
        "# Link: https://github.com/mushfiq-hussain/info5731_assignment3_question-4/blob/main/sentiment%20analysis.csv\n",
        "\n"
      ]
    },
    {
      "cell_type": "markdown",
      "metadata": {
        "id": "q8BFCvWp32cf"
      },
      "source": [
        "# Mandatory Question\n",
        "\n",
        "Provide your thoughts on the assignment. What did you find challenging, and what aspects did you enjoy? Your opinion on the provided time to complete the assignment."
      ]
    },
    {
      "cell_type": "code",
      "execution_count": 6,
      "metadata": {
        "id": "sNXlsbrirHRo"
      },
      "outputs": [],
      "source": [
        "Collecting and annotating data is a major difficulty in jobs such as sentiment analysis. Creating a broad and representative\n",
        "dataset and properly labeling the attitudes of each text takes a great amount of time and work.\n",
        "Despite the difficulties, working on tasks like these allows you to discover new concepts in NLP and machine learning.\n",
        " It's an opportunity to broaden your understanding and learn new skills in data analysis, model creation, and assessment."
      ]
    }
  ],
  "metadata": {
    "colab": {
      "provenance": [],
      "toc_visible": true,
      "include_colab_link": true
    },
    "kernelspec": {
      "display_name": "Python 3 (ipykernel)",
      "language": "python",
      "name": "python3"
    },
    "language_info": {
      "codemirror_mode": {
        "name": "ipython",
        "version": 3
      },
      "file_extension": ".py",
      "mimetype": "text/x-python",
      "name": "python",
      "nbconvert_exporter": "python",
      "pygments_lexer": "ipython3",
      "version": "3.9.12"
    }
  },
  "nbformat": 4,
  "nbformat_minor": 0
}